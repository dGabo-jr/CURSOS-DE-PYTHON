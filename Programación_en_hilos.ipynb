{
  "nbformat": 4,
  "nbformat_minor": 0,
  "metadata": {
    "colab": {
      "provenance": [],
      "authorship_tag": "ABX9TyOIaKZZS2xL7fGQJimiLOX9",
      "include_colab_link": true
    },
    "kernelspec": {
      "name": "python3",
      "display_name": "Python 3"
    },
    "language_info": {
      "name": "python"
    }
  },
  "cells": [
    {
      "cell_type": "markdown",
      "metadata": {
        "id": "view-in-github",
        "colab_type": "text"
      },
      "source": [
        "<a href=\"https://colab.research.google.com/github/dGabo-jr/CURSOS-DE-PYTHON/blob/main/Programaci%C3%B3n_en_hilos.ipynb\" target=\"_parent\"><img src=\"https://colab.research.google.com/assets/colab-badge.svg\" alt=\"Open In Colab\"/></a>"
      ]
    },
    {
      "cell_type": "markdown",
      "source": [
        "##Explicación\n",
        "\n",
        "Una escuela tiene dos carreras, Mecatrónica y Automotriz, y dos grupos ME101 y AU101.\n",
        "\n",
        "\n",
        "\n",
        "Definidos cuatro funciones que representan acciones que se realizan en las carreras (Mecatrónica y Automotriz) y los grupos (ME101 y AU101). Estas acciones son la **inscripción en una carrera**, la **asignación de materias**, la **planificación de proyectos** y la **organización de exposiciones**.\n",
        "\n",
        "Creamos  **los primeros dos hilos**, uno para cada grupo en cada carrera, para realizar la **inscripción en las carreras** . Los hilos se inician al mismo tiempo para que ambas inscripciones ocurran al mismo tiempo.\n",
        "\n",
        "Esperamos a que ambos hilos de inscripción terminen antes de continuar con la asignación de materias. Creamos otros **dos hilos más para asignar materias a los grupos ME101 y AU101**, y los iniciamos al mismo tiempo.\n",
        "\n",
        "Esperamos a que ambos hilos de asignación de materias terminen antes de continuar con la planificación de proyectos. Creamos  otros **dos hilos más para planificar proyectos en cada carrera**, Mecatrónica y Automotriz, y los iniciamos al mismo tiempo.\n",
        "\n",
        "Esperamos a que ambos hilos de planificación de proyectos terminen antes de continuar con la organización de exposiciones.Y por **último creamos dos hilos más para organizar exposiciones en cada carrera**, Mecatrónica y Automotriz, y los iniciamos al mismo tiempo.\n",
        "\n",
        "Esperamos a que ambos hilos de organización de exposiciones terminen antes de continuar. Finalmente, mostramos un mensaje para indicar que todas las acciones de grupos y carreras se han completado.\n",
        "\n",
        "Con este algoritmo, **simulamos las acciones de inscripción, asignación de materias, planificación de proyectos y organización de exposiciones para dos carreras (Mecatrónica y Automotriz) y dos grupos (ME101 y AU101) que ocurren de manera simultánea gracias a la programación en hilos**. Cada grupo se inscribe en su carrera, se asignan materias, se planifican proyectos y se organizan exposiciones, todo al mismo tiempo."
      ],
      "metadata": {
        "id": "7hPoZdcwe-Qo"
      }
    },
    {
      "cell_type": "code",
      "execution_count": 1,
      "metadata": {
        "colab": {
          "base_uri": "https://localhost:8080/"
        },
        "id": "sDOVZ5ujeAAU",
        "outputId": "dd71d96b-299c-4cd8-9620-02660195bfa2"
      },
      "outputs": [
        {
          "output_type": "stream",
          "name": "stdout",
          "text": [
            "Grupo ME101 inscrito en la carrera de Mecatrónica.\n",
            "Materias asignadas para el grupo ME101.\n",
            "Grupo AU101 inscrito en la carrera de Automotriz.\n",
            "Materias asignadas para el grupo AU101.\n",
            "Proyectos planificados para la carrera de Mecatrónica.\n",
            "Exposición organizada para la carrera de Mecatrónica.\n",
            "Proyectos planificados para la carrera de Automotriz.\n",
            "Exposición organizada para la carrera de Automotriz.\n",
            "Todas las acciones de grupos y carreras completadas.\n"
          ]
        }
      ],
      "source": [
        "import threading\n",
        "\n",
        "# Funciones que representan acciones de los grupos en las carreras\n",
        "def inscribir_grupo(carrera, grupo):\n",
        "    print(f\"Grupo {grupo} inscrito en la carrera de {carrera}.\")\n",
        "\n",
        "def asignar_materias(grupo):\n",
        "    print(f\"Materias asignadas para el grupo {grupo}.\")\n",
        "\n",
        "def planificar_proyectos(carrera):\n",
        "    print(f\"Proyectos planificados para la carrera de {carrera}.\")\n",
        "\n",
        "def organizar_exposicion(carrera):\n",
        "    print(f\"Exposición organizada para la carrera de {carrera}.\")\n",
        "\n",
        "# Creamos dos hilos, uno para cada grupo en cada carrera\n",
        "hilo_me101_inscripcion = threading.Thread(target=inscribir_grupo, args=(\"Mecatrónica\", \"ME101\"))\n",
        "hilo_me101_materias = threading.Thread(target=asignar_materias, args=(\"ME101\",))\n",
        "\n",
        "hilo_au101_inscripcion = threading.Thread(target=inscribir_grupo, args=(\"Automotriz\", \"AU101\"))\n",
        "hilo_au101_materias = threading.Thread(target=asignar_materias, args=(\"AU101\",))\n",
        "\n",
        "hilo_mecatronica_proyectos = threading.Thread(target=planificar_proyectos, args=(\"Mecatrónica\",))\n",
        "hilo_mecatronica_exposicion = threading.Thread(target=organizar_exposicion, args=(\"Mecatrónica\",))\n",
        "\n",
        "hilo_automotriz_proyectos = threading.Thread(target=planificar_proyectos, args=(\"Automotriz\",))\n",
        "hilo_automotriz_exposicion = threading.Thread(target=organizar_exposicion, args=(\"Automotriz\",))\n",
        "\n",
        "# Iniciamos los hilos para que comiencen a trabajar al mismo tiempo\n",
        "hilo_me101_inscripcion.start()\n",
        "hilo_me101_materias.start()\n",
        "\n",
        "hilo_au101_inscripcion.start()\n",
        "hilo_au101_materias.start()\n",
        "\n",
        "hilo_mecatronica_proyectos.start()\n",
        "hilo_mecatronica_exposicion.start()\n",
        "\n",
        "hilo_automotriz_proyectos.start()\n",
        "hilo_automotriz_exposicion.start()\n",
        "\n",
        "# Esperamos a que todos los hilos terminen antes de continuar con el programa principal\n",
        "hilo_me101_inscripcion.join()\n",
        "hilo_me101_materias.join()\n",
        "\n",
        "hilo_au101_inscripcion.join()\n",
        "hilo_au101_materias.join()\n",
        "\n",
        "hilo_mecatronica_proyectos.join()\n",
        "hilo_mecatronica_exposicion.join()\n",
        "\n",
        "hilo_automotriz_proyectos.join()\n",
        "hilo_automotriz_exposicion.join()\n",
        "\n",
        "# Finalmente, mostramos un mensaje cuando todo ha terminado\n",
        "print(\"Todas las acciones de grupos y carreras completadas.\")\n"
      ]
    }
  ]
}